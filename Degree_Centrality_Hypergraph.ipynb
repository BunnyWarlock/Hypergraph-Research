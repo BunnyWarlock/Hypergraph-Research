{
  "nbformat": 4,
  "nbformat_minor": 0,
  "metadata": {
    "colab": {
      "provenance": []
    },
    "kernelspec": {
      "name": "python3",
      "display_name": "Python 3"
    },
    "language_info": {
      "name": "python"
    }
  },
  "cells": [
    {
      "cell_type": "code",
      "source": [
        "from hypergraphx.linalg import *\n",
        "from collections import Counter"
      ],
      "metadata": {
        "id": "1KIjXnXGLTRx"
      },
      "execution_count": 12,
      "outputs": []
    },
    {
      "cell_type": "code",
      "source": [
        "with open(\"hyperedges.txt\", \"r\") as file:\n",
        "    lines = file.readlines()\n",
        "hyperedges = [list(map(int, line.strip().split())) for line in lines]\n",
        "H = Hypergraph(hyperedges)"
      ],
      "metadata": {
        "id": "zx9jCoDBLor2"
      },
      "execution_count": 24,
      "outputs": []
    },
    {
      "cell_type": "code",
      "source": [
        "edges = H.get_edges()\n",
        "\n",
        "max_len = max(len(subset) for subset in edges)\n",
        "hyperedge_degree = [i for i, subset in enumerate(edges) if len(subset) == max_len]\n",
        "\n",
        "data = [item for sublist in edges for item in sublist]\n",
        "counts = Counter(data)\n",
        "max_count = max(counts.values())\n",
        "node_degree = [i for i, count in counts.items() if count == max_count]\n",
        "\n",
        "print(\"Degree Centrality of the hypergraph:\");\n",
        "print(\"The Hyperedges with the most nodes are\", hyperedge_degree)\n",
        "print(\"The Nodes included inside the most hyperedges are\", node_degree)"
      ],
      "metadata": {
        "colab": {
          "base_uri": "https://localhost:8080/"
        },
        "id": "22Mpr2jjVxBe",
        "outputId": "955d572d-cb1f-4337-d730-6b8ce8acc60c"
      },
      "execution_count": 35,
      "outputs": [
        {
          "output_type": "stream",
          "name": "stdout",
          "text": [
            "Degree Centrality of the hypergraph:\n",
            "The Hyperedges with the most nodes are [8, 9]\n",
            "The Nodes included inside the most hyperedges are [1]\n"
          ]
        }
      ]
    }
  ]
}