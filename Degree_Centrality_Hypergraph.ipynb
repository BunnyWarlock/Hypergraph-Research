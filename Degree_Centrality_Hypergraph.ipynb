{
  "nbformat": 4,
  "nbformat_minor": 0,
  "metadata": {
    "colab": {
      "provenance": []
    },
    "kernelspec": {
      "name": "python3",
      "display_name": "Python 3"
    },
    "language_info": {
      "name": "python"
    }
  },
  "cells": [
    {
      "cell_type": "code",
      "execution_count": 1,
      "metadata": {
        "id": "Qsn9r-cKm2yD",
        "colab": {
          "base_uri": "https://localhost:8080/"
        },
        "outputId": "2b71d7d4-1cb2-4dc7-d857-339ae6d59164"
      },
      "outputs": [
        {
          "output_type": "stream",
          "name": "stdout",
          "text": [
            "Collecting hypergraphx\n",
            "  Downloading hypergraphx-1.7.2-py3-none-any.whl (93 kB)\n",
            "\u001b[2K     \u001b[90m━━━━━━━━━━━━━━━━━━━━━━━━━━━━━━━━━━━━━━━━\u001b[0m \u001b[32m93.0/93.0 kB\u001b[0m \u001b[31m2.9 MB/s\u001b[0m eta \u001b[36m0:00:00\u001b[0m\n",
            "\u001b[?25hRequirement already satisfied: numpy in /usr/local/lib/python3.10/dist-packages (from hypergraphx) (1.25.2)\n",
            "Requirement already satisfied: scipy in /usr/local/lib/python3.10/dist-packages (from hypergraphx) (1.11.4)\n",
            "Requirement already satisfied: networkx in /usr/local/lib/python3.10/dist-packages (from hypergraphx) (3.2.1)\n",
            "Requirement already satisfied: pandas in /usr/local/lib/python3.10/dist-packages (from hypergraphx) (1.5.3)\n",
            "Requirement already satisfied: scikit-learn in /usr/local/lib/python3.10/dist-packages (from hypergraphx) (1.2.2)\n",
            "Requirement already satisfied: pytest in /usr/local/lib/python3.10/dist-packages (from hypergraphx) (7.4.4)\n",
            "Requirement already satisfied: matplotlib in /usr/local/lib/python3.10/dist-packages (from hypergraphx) (3.7.1)\n",
            "Requirement already satisfied: seaborn in /usr/local/lib/python3.10/dist-packages (from hypergraphx) (0.13.1)\n",
            "Requirement already satisfied: contourpy>=1.0.1 in /usr/local/lib/python3.10/dist-packages (from matplotlib->hypergraphx) (1.2.0)\n",
            "Requirement already satisfied: cycler>=0.10 in /usr/local/lib/python3.10/dist-packages (from matplotlib->hypergraphx) (0.12.1)\n",
            "Requirement already satisfied: fonttools>=4.22.0 in /usr/local/lib/python3.10/dist-packages (from matplotlib->hypergraphx) (4.49.0)\n",
            "Requirement already satisfied: kiwisolver>=1.0.1 in /usr/local/lib/python3.10/dist-packages (from matplotlib->hypergraphx) (1.4.5)\n",
            "Requirement already satisfied: packaging>=20.0 in /usr/local/lib/python3.10/dist-packages (from matplotlib->hypergraphx) (23.2)\n",
            "Requirement already satisfied: pillow>=6.2.0 in /usr/local/lib/python3.10/dist-packages (from matplotlib->hypergraphx) (9.4.0)\n",
            "Requirement already satisfied: pyparsing>=2.3.1 in /usr/local/lib/python3.10/dist-packages (from matplotlib->hypergraphx) (3.1.1)\n",
            "Requirement already satisfied: python-dateutil>=2.7 in /usr/local/lib/python3.10/dist-packages (from matplotlib->hypergraphx) (2.8.2)\n",
            "Requirement already satisfied: pytz>=2020.1 in /usr/local/lib/python3.10/dist-packages (from pandas->hypergraphx) (2023.4)\n",
            "Requirement already satisfied: iniconfig in /usr/local/lib/python3.10/dist-packages (from pytest->hypergraphx) (2.0.0)\n",
            "Requirement already satisfied: pluggy<2.0,>=0.12 in /usr/local/lib/python3.10/dist-packages (from pytest->hypergraphx) (1.4.0)\n",
            "Requirement already satisfied: exceptiongroup>=1.0.0rc8 in /usr/local/lib/python3.10/dist-packages (from pytest->hypergraphx) (1.2.0)\n",
            "Requirement already satisfied: tomli>=1.0.0 in /usr/local/lib/python3.10/dist-packages (from pytest->hypergraphx) (2.0.1)\n",
            "Requirement already satisfied: joblib>=1.1.1 in /usr/local/lib/python3.10/dist-packages (from scikit-learn->hypergraphx) (1.3.2)\n",
            "Requirement already satisfied: threadpoolctl>=2.0.0 in /usr/local/lib/python3.10/dist-packages (from scikit-learn->hypergraphx) (3.3.0)\n",
            "Requirement already satisfied: six>=1.5 in /usr/local/lib/python3.10/dist-packages (from python-dateutil>=2.7->matplotlib->hypergraphx) (1.16.0)\n",
            "Installing collected packages: hypergraphx\n",
            "Successfully installed hypergraphx-1.7.2\n"
          ]
        }
      ],
      "source": [
        "! pip install hypergraphx"
      ]
    },
    {
      "cell_type": "code",
      "source": [
        "from hypergraphx.linalg import *\n",
        "from collections import Counter"
      ],
      "metadata": {
        "id": "1KIjXnXGLTRx"
      },
      "execution_count": 12,
      "outputs": []
    },
    {
      "cell_type": "code",
      "source": [
        "with open(\"hyperedges.txt\", \"r\") as file:\n",
        "    lines = file.readlines()\n",
        "hyperedges = [list(map(int, line.strip().split())) for line in lines]\n",
        "H = Hypergraph(hyperedges)"
      ],
      "metadata": {
        "id": "zx9jCoDBLor2"
      },
      "execution_count": 24,
      "outputs": []
    },
    {
      "cell_type": "code",
      "source": [
        "edges = H.get_edges()\n",
        "\n",
        "max_len = max(len(subset) for subset in edges)\n",
        "hyperedge_degree = [i for i, subset in enumerate(edges) if len(subset) == max_len]\n",
        "\n",
        "data = [item for sublist in edges for item in sublist]\n",
        "counts = Counter(data)\n",
        "max_count = max(counts.values())\n",
        "node_degree = [element for element, count in counts.items() if count == max_count]\n",
        "\n",
        "print(\"Degree Centrality of the hypergraph:\");\n",
        "print(\"The Hyperedges with the most nodes are\", hyperedge_degree)\n",
        "print(\"The Nodes included inside the most hyperedges are\", node_degree)"
      ],
      "metadata": {
        "colab": {
          "base_uri": "https://localhost:8080/"
        },
        "id": "22Mpr2jjVxBe",
        "outputId": "83c783b7-a595-4b1e-fc4f-993ddf755aee"
      },
      "execution_count": 32,
      "outputs": [
        {
          "output_type": "stream",
          "name": "stdout",
          "text": [
            "Degree Centrality of the hypergraph:\n",
            "The Hyperedges with the most nodes are [8, 9]\n",
            "The Nodes included inside the most hyperedges are [1]\n"
          ]
        }
      ]
    }
  ]
}